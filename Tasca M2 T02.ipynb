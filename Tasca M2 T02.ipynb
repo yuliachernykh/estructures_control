{
 "cells": [
  {
   "cell_type": "markdown",
   "id": "4b8815d6",
   "metadata": {},
   "source": [
    "## - Exercici 1\n",
    "\n",
    "L'exercici consisteix a crear un programa que et classifiqui una variable numèrica en funció de l’escala Suspès/Aprovat/Notable/Excel·lent.\n",
    "\n",
    "Recorda que Suspès < 5, Aprovat > 5 i < 7, Notable > 7 i < 9 i Excel·lent > 9."
   ]
  },
  {
   "cell_type": "code",
   "execution_count": 12,
   "id": "9f375027",
   "metadata": {},
   "outputs": [],
   "source": [
    "def qualificacio(nota): \n",
    "    if nota < 5:\n",
    "        return 'Suspès'\n",
    "    elif nota < 7:\n",
    "        return 'Aprobat'\n",
    "    elif nota < 9:\n",
    "        return 'Notable'\n",
    "    else:\n",
    "        return 'Excel·lent'"
   ]
  },
  {
   "cell_type": "code",
   "execution_count": 13,
   "id": "6cc2f039",
   "metadata": {},
   "outputs": [
    {
     "data": {
      "text/plain": [
       "'Aprobat'"
      ]
     },
     "execution_count": 13,
     "metadata": {},
     "output_type": "execute_result"
    }
   ],
   "source": [
    "qualificacio(5)"
   ]
  },
  {
   "cell_type": "code",
   "execution_count": 14,
   "id": "09aab09f",
   "metadata": {},
   "outputs": [
    {
     "data": {
      "text/plain": [
       "'Excel·lent'"
      ]
     },
     "execution_count": 14,
     "metadata": {},
     "output_type": "execute_result"
    }
   ],
   "source": [
    "qualificacio(10)"
   ]
  },
  {
   "cell_type": "markdown",
   "id": "9c27a62c",
   "metadata": {},
   "source": [
    "## - Exercici 2\n",
    "\n",
    "Utilitzant el següent tutorial crea un programa que et pregunti dos números. T’ha de mostrar un missatge dient si el primer és més gran, el segon és més gran o són iguals."
   ]
  },
  {
   "cell_type": "code",
   "execution_count": 28,
   "id": "94904d64",
   "metadata": {},
   "outputs": [
    {
     "name": "stdout",
     "output_type": "stream",
     "text": [
      "Quin és el primer número?: 8\n",
      "Quin és el segon número?: 9\n",
      "El segon número és més gran.\n"
     ]
    }
   ],
   "source": [
    "num1=int(input('Quin és el primer número?: ')) \n",
    "num2=int(input('Quin és el segon número?: '))\n",
    "def pregunta_numero(num1,num2):\n",
    "    if num1>num2:return('El primer número és més gran.')\n",
    "    elif num1<num2:return('El segon número és més gran.')\n",
    "    else:return('Són iguals.')\n",
    "print(pregunta_numero(num1,num2))"
   ]
  },
  {
   "cell_type": "markdown",
   "id": "e7382def",
   "metadata": {},
   "source": [
    "## - Exercici 3\n"
   ]
  },
  {
   "cell_type": "markdown",
   "id": "c76439d3",
   "metadata": {},
   "source": [
    "Crea un programa que et pregunti el teu nom, i et demani un número. Si el número és 0, hauria de mostrar un missatge d’error. En cas contrari, hauria de mostrar el nom repetit tants cops com indiqui el número. Per exemple, “Joan Joan Joan”."
   ]
  },
  {
   "cell_type": "code",
   "execution_count": 5,
   "id": "efa9542d",
   "metadata": {},
   "outputs": [
    {
     "name": "stdout",
     "output_type": "stream",
     "text": [
      "Digues el teu nom: Anna\n",
      "Digues un número: 8\n",
      "AnnaAnnaAnnaAnnaAnnaAnnaAnnaAnna\n"
     ]
    }
   ],
   "source": [
    "nom = input (\"Digues el teu nom: \")\n",
    "num = int(input (\"Digues un número: \"))\n",
    "def repeticio_nom (nom, num):\n",
    "    if (num == 0):\n",
    "        print(\"Error!\") \n",
    "    else: return(int(num) * nom) \n",
    "print(repeticio_nom(nom, num))"
   ]
  },
  {
   "cell_type": "markdown",
   "id": "beb2b688",
   "metadata": {},
   "source": [
    "\n",
    "## - Exercici 4\n",
    "Crea un programa que donada una llista qualsevol, et digui si és simètrica o no. Si ho és, que et digui quants elements té."
   ]
  },
  {
   "cell_type": "code",
   "execution_count": 6,
   "id": "8a318248",
   "metadata": {},
   "outputs": [
    {
     "name": "stdout",
     "output_type": "stream",
     "text": [
      "És simètrica\n",
      "El número d'elements és: 5\n"
     ]
    }
   ],
   "source": [
    "mylist = [1,2,5,2,1]\n",
    "def simetria(mylist):\n",
    "    if mylist == list(reversed(mylist)):\n",
    "        print(\"És simètrica\")\n",
    "        print(\"El número d'elements és:\", len(mylist))\n",
    "    else: \n",
    "        print(\"No és simètrica\")\n",
    "simetria(mylist)"
   ]
  },
  {
   "cell_type": "markdown",
   "id": "63434973",
   "metadata": {},
   "source": [
    "\n",
    "## - Exercici 5\n",
    "Crea un programa que donada una llista, et digui quants números coincideixen amb la seva posició. Per exemple [3,4,2,0,2,3,6] el 2 i el 6 coincideixen."
   ]
  },
  {
   "cell_type": "code",
   "execution_count": 7,
   "id": "6ebeff1d",
   "metadata": {},
   "outputs": [],
   "source": [
    "def index_coincidents(my_list):\n",
    "    numeros_coincidents = []\n",
    "    for index, value in enumerate(my_list):\n",
    "        if value == index:\n",
    "            numeros_coincidents.append(value)            \n",
    "    return numeros_coincidents        "
   ]
  },
  {
   "cell_type": "code",
   "execution_count": 8,
   "id": "18d0e714",
   "metadata": {},
   "outputs": [],
   "source": [
    "my_list = [0,1,2,3,5,7]"
   ]
  },
  {
   "cell_type": "code",
   "execution_count": 9,
   "id": "3fc40400",
   "metadata": {},
   "outputs": [
    {
     "data": {
      "text/plain": [
       "[0, 1, 2, 3]"
      ]
     },
     "execution_count": 9,
     "metadata": {},
     "output_type": "execute_result"
    }
   ],
   "source": [
    "index_coincidents(my_list)"
   ]
  }
 ],
 "metadata": {
  "kernelspec": {
   "display_name": "Python 3 (ipykernel)",
   "language": "python",
   "name": "python3"
  },
  "language_info": {
   "codemirror_mode": {
    "name": "ipython",
    "version": 3
   },
   "file_extension": ".py",
   "mimetype": "text/x-python",
   "name": "python",
   "nbconvert_exporter": "python",
   "pygments_lexer": "ipython3",
   "version": "3.9.12"
  }
 },
 "nbformat": 4,
 "nbformat_minor": 5
}

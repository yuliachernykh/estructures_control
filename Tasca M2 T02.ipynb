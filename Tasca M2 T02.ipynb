{
 "cells": [
  {
   "cell_type": "markdown",
   "id": "4b8815d6",
   "metadata": {},
   "source": [
    "## - Exercici 1\n",
    "\n",
    "L'exercici consisteix a crear un programa que et classifiqui una variable numèrica en funció de l’escala Suspès/Aprovat/Notable/Excel·lent.\n",
    "\n",
    "Recorda que Suspès < 5, Aprovat > 5 i < 7, Notable > 7 i < 9 i Excel·lent > 9."
   ]
  },
  {
   "cell_type": "code",
   "execution_count": null,
   "id": "a6306749",
   "metadata": {},
   "outputs": [],
   "source": [
    "nota = 6.8\n",
    "if nota < 5:\n",
    "    print('Suspès')\n",
    "elif nota < 7:\n",
    "    print('Aprovat')\n",
    "elif nota < 9:\n",
    "    print('Notable')\n",
    "else:\n",
    "    print('Excel.lent')"
   ]
  },
  {
   "cell_type": "markdown",
   "id": "9c27a62c",
   "metadata": {},
   "source": [
    "## - Exercici 2\n",
    "\n",
    "Utilitzant el següent tutorial crea un programa que et pregunti dos números. T’ha de mostrar un missatge dient si el primer és més gran, el segon és més gran o són iguals."
   ]
  },
  {
   "cell_type": "code",
   "execution_count": 2,
   "id": "984ced5b",
   "metadata": {},
   "outputs": [
    {
     "name": "stdout",
     "output_type": "stream",
     "text": [
      "Quin és el primer número?:5\n",
      "Quin és el segon número?:5\n",
      "Són iguals.\n"
     ]
    }
   ],
   "source": [
    "x = int(input(\"Quin és el primer número?:\")) \n",
    "y = int(input(\"Quin és el segon número?:\"))\n",
    "if x>y:\n",
    "  print('El primer número és més gran.')\n",
    "elif x<y:\n",
    "  print('El segon número és més gran.')\n",
    "else:\n",
    "  print('Són iguals.') \n"
   ]
  },
  {
   "cell_type": "markdown",
   "id": "f600c2ac",
   "metadata": {},
   "source": [
    "## - Exercici 3\n",
    "Crea un programa que et pregunti el teu nom, i et demani un número. Si el número és 0, hauria de mostrar un missatge d’error. En cas contrari, hauria de mostrar el nom repetit tants cops com indiqui el número. Per exemple, “Joan Joan Joan”."
   ]
  },
  {
   "cell_type": "code",
   "execution_count": 6,
   "id": "2cd013f3",
   "metadata": {},
   "outputs": [
    {
     "name": "stdout",
     "output_type": "stream",
     "text": [
      "Escriu el teu nom:  Anna\n",
      "Escriu un número: 6\n",
      "Anna\n",
      "Anna\n",
      "Anna\n",
      "Anna\n",
      "Anna\n",
      "Anna\n",
      "\n"
     ]
    }
   ],
   "source": [
    "nom = input(\"Escriu el teu nom:  \")\n",
    "numero = int(input(\"Escriu un número: \"))\n",
    "if numero==0:\n",
    "  print('Error') \n",
    "    \n",
    "print((nom + \"\\n\" )*numero)\n",
    "\n"
   ]
  },
  {
   "cell_type": "code",
   "execution_count": 7,
   "id": "12dda2c8",
   "metadata": {},
   "outputs": [
    {
     "name": "stdout",
     "output_type": "stream",
     "text": [
      "Escriu el teu nom:  Joan\n",
      "Escriu un número: 0\n",
      "Error\n",
      "\n"
     ]
    }
   ],
   "source": [
    "nom = input(\"Escriu el teu nom:  \")\n",
    "numero = int(input(\"Escriu un número: \"))\n",
    "if numero==0:\n",
    "  print('Error') \n",
    "    \n",
    "print((nom + \"\\n\" )*numero)\n",
    "\n",
    "\n"
   ]
  },
  {
   "cell_type": "markdown",
   "id": "beb2b688",
   "metadata": {},
   "source": [
    "\n",
    "## - Exercici 4\n",
    "Crea un programa que donada una llista qualsevol, et digui si és simètrica o no. Si ho és, que et digui quants elements té."
   ]
  },
  {
   "cell_type": "code",
   "execution_count": 2,
   "id": "8a318248",
   "metadata": {},
   "outputs": [
    {
     "name": "stdout",
     "output_type": "stream",
     "text": [
      "És simètrica\n",
      "El número d'elements és: 5\n"
     ]
    }
   ],
   "source": [
    "\n",
    "mylist = [1,2,5,2,1]\n",
    "\n",
    "def simetria(mylist):\n",
    "    if mylist == list(reversed(mylist)):\n",
    "        print(\"És simètrica\")\n",
    "        print(\"El número d'elements és:\", len(mylist))\n",
    "    else: \n",
    "        print(\"No és simètrica\")\n",
    "        \n",
    "simetria(mylist)\n",
    "\n",
    "\n",
    "\n",
    "\n",
    "\n"
   ]
  },
  {
   "cell_type": "markdown",
   "id": "63434973",
   "metadata": {},
   "source": [
    "\n",
    "## - Exercici 5\n",
    "Crea un programa que donada una llista, et digui quants números coincideixen amb la seva posició. Per exemple [3,4,2,0,2,3,6] el 2 i el 6 coincideixen."
   ]
  },
  {
   "cell_type": "code",
   "execution_count": 19,
   "id": "45c6dc91",
   "metadata": {},
   "outputs": [],
   "source": [
    "def index_coincidents(my_list):\n",
    "\n",
    "    numeros_coincidents = []\n",
    "\n",
    "    for index, value in enumerate(my_list):\n",
    "        if value == index:\n",
    "            numeros_coincidents.append(value)\n",
    "            \n",
    "    return numeros_coincidents\n",
    "        \n",
    "        "
   ]
  },
  {
   "cell_type": "code",
   "execution_count": 18,
   "id": "4638c5a2",
   "metadata": {},
   "outputs": [],
   "source": [
    "my_list = [0,1,2,3,5,7]"
   ]
  },
  {
   "cell_type": "code",
   "execution_count": 20,
   "id": "841ac6f2",
   "metadata": {},
   "outputs": [
    {
     "data": {
      "text/plain": [
       "[0, 1, 2, 3]"
      ]
     },
     "execution_count": 20,
     "metadata": {},
     "output_type": "execute_result"
    }
   ],
   "source": [
    "index_coincidents(my_list)"
   ]
  }
 ],
 "metadata": {
  "kernelspec": {
   "display_name": "Python 3 (ipykernel)",
   "language": "python",
   "name": "python3"
  },
  "language_info": {
   "codemirror_mode": {
    "name": "ipython",
    "version": 3
   },
   "file_extension": ".py",
   "mimetype": "text/x-python",
   "name": "python",
   "nbconvert_exporter": "python",
   "pygments_lexer": "ipython3",
   "version": "3.9.12"
  }
 },
 "nbformat": 4,
 "nbformat_minor": 5
}
